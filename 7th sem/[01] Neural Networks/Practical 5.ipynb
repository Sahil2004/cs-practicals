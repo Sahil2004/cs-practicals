{
  "nbformat": 4,
  "nbformat_minor": 0,
  "metadata": {
    "colab": {
      "provenance": [],
      "authorship_tag": "ABX9TyMSrbCTfdX8HDtBg/F9KkaM",
      "include_colab_link": true
    },
    "kernelspec": {
      "name": "python3",
      "display_name": "Python 3"
    },
    "language_info": {
      "name": "python"
    }
  },
  "cells": [
    {
      "cell_type": "markdown",
      "metadata": {
        "id": "view-in-github",
        "colab_type": "text"
      },
      "source": [
        "<a href=\"https://colab.research.google.com/github/Sahil2004/cs-practicals/blob/main/7th%20sem/%5B01%5D%20Neural%20Networks/Practical%205.ipynb\" target=\"_parent\"><img src=\"https://colab.research.google.com/assets/colab-badge.svg\" alt=\"Open In Colab\"/></a>"
      ]
    },
    {
      "cell_type": "code",
      "execution_count": 1,
      "metadata": {
        "id": "1OPAU5PhtBy5"
      },
      "outputs": [],
      "source": [
        "import pandas as pd"
      ]
    },
    {
      "cell_type": "code",
      "source": [
        "data = input()\n",
        "x = data.count(\".\")\n",
        "data1 = data.replace(\".\", ' eos ' * x)\n",
        "data2 = data1.replace(\".\", ' eos')\n",
        "data3 = \"eos \" + data2"
      ],
      "metadata": {
        "colab": {
          "base_uri": "https://localhost:8080/"
        },
        "id": "cezKXyLRtENF",
        "outputId": "6a7fec2c-9e76-41fd-f571-35b9a96f1af1"
      },
      "execution_count": 2,
      "outputs": [
        {
          "name": "stdout",
          "output_type": "stream",
          "text": [
            "I love playing football. My friends and I play football every evening.\n"
          ]
        }
      ]
    },
    {
      "cell_type": "code",
      "source": [
        "print(data3)"
      ],
      "metadata": {
        "colab": {
          "base_uri": "https://localhost:8080/"
        },
        "id": "WjACooG5tTHR",
        "outputId": "26f56ca7-4dd5-4938-8ed3-a526fc0d857e"
      },
      "execution_count": 3,
      "outputs": [
        {
          "output_type": "stream",
          "name": "stdout",
          "text": [
            "eos I love playing football eos  eos  My friends and I play football every evening eos  eos \n"
          ]
        }
      ]
    },
    {
      "cell_type": "code",
      "source": [
        "tokens = data3.split(\" \")\n",
        "print(tokens)"
      ],
      "metadata": {
        "colab": {
          "base_uri": "https://localhost:8080/"
        },
        "id": "mdXKVJp5tbOh",
        "outputId": "03e60fd6-26e4-4290-b29b-40e32141283a"
      },
      "execution_count": 4,
      "outputs": [
        {
          "output_type": "stream",
          "name": "stdout",
          "text": [
            "['eos', 'I', 'love', 'playing', 'football', 'eos', '', 'eos', '', 'My', 'friends', 'and', 'I', 'play', 'football', 'every', 'evening', 'eos', '', 'eos', '']\n"
          ]
        }
      ]
    },
    {
      "cell_type": "code",
      "source": [
        "bigrams = [(tokens[i], tokens[i+1]) for i in range(len(tokens)-1)]\n",
        "print(bigrams)\n",
        "print(len(bigrams))"
      ],
      "metadata": {
        "colab": {
          "base_uri": "https://localhost:8080/"
        },
        "id": "xNIMVMaPtf5q",
        "outputId": "769df1e8-8692-46ab-ba7b-641c65a59805"
      },
      "execution_count": 5,
      "outputs": [
        {
          "output_type": "stream",
          "name": "stdout",
          "text": [
            "[('eos', 'I'), ('I', 'love'), ('love', 'playing'), ('playing', 'football'), ('football', 'eos'), ('eos', ''), ('', 'eos'), ('eos', ''), ('', 'My'), ('My', 'friends'), ('friends', 'and'), ('and', 'I'), ('I', 'play'), ('play', 'football'), ('football', 'every'), ('every', 'evening'), ('evening', 'eos'), ('eos', ''), ('', 'eos'), ('eos', '')]\n",
            "20\n"
          ]
        }
      ]
    },
    {
      "cell_type": "code",
      "source": [
        "uni = {}\n",
        "for i in tokens:\n",
        "  if i in uni:\n",
        "    uni[i] += 1\n",
        "  else:\n",
        "    uni[i] = 1\n",
        "print(uni)"
      ],
      "metadata": {
        "colab": {
          "base_uri": "https://localhost:8080/"
        },
        "id": "Bi16RqnktwjX",
        "outputId": "afc24cbd-14eb-430c-a542-e601c4264140"
      },
      "execution_count": 6,
      "outputs": [
        {
          "output_type": "stream",
          "name": "stdout",
          "text": [
            "{'eos': 5, 'I': 2, 'love': 1, 'playing': 1, 'football': 2, '': 4, 'My': 1, 'friends': 1, 'and': 1, 'play': 1, 'every': 1, 'evening': 1}\n"
          ]
        }
      ]
    },
    {
      "cell_type": "code",
      "source": [
        "bi = {}\n",
        "for i in bigrams:\n",
        "  if i in bi:\n",
        "    bi[i] += 1\n",
        "  else:\n",
        "    bi[i] = 1\n",
        "print(bi)"
      ],
      "metadata": {
        "colab": {
          "base_uri": "https://localhost:8080/"
        },
        "id": "Jc22U-dUt9OD",
        "outputId": "5355f032-0397-4344-98c4-bf7fed855d27"
      },
      "execution_count": 7,
      "outputs": [
        {
          "output_type": "stream",
          "name": "stdout",
          "text": [
            "{('eos', 'I'): 1, ('I', 'love'): 1, ('love', 'playing'): 1, ('playing', 'football'): 1, ('football', 'eos'): 1, ('eos', ''): 4, ('', 'eos'): 2, ('', 'My'): 1, ('My', 'friends'): 1, ('friends', 'and'): 1, ('and', 'I'): 1, ('I', 'play'): 1, ('play', 'football'): 1, ('football', 'every'): 1, ('every', 'evening'): 1, ('evening', 'eos'): 1}\n"
          ]
        }
      ]
    },
    {
      "cell_type": "code",
      "source": [
        "prob = {}\n",
        "for i in bigrams:\n",
        "  prob[i] = (bi.get(i) / uni.get(i[0]))\n",
        "print(prob)\n",
        "l1 = list(set(tokens))\n",
        "print(l1)\n",
        "mat = [[None] * len(l1) for i in range(len(l1))]"
      ],
      "metadata": {
        "colab": {
          "base_uri": "https://localhost:8080/"
        },
        "id": "_GiAkfsduIBg",
        "outputId": "e2966d28-7f72-4d6a-f0e4-be490c0b7402"
      },
      "execution_count": 8,
      "outputs": [
        {
          "output_type": "stream",
          "name": "stdout",
          "text": [
            "{('eos', 'I'): 0.2, ('I', 'love'): 0.5, ('love', 'playing'): 1.0, ('playing', 'football'): 1.0, ('football', 'eos'): 0.5, ('eos', ''): 0.8, ('', 'eos'): 0.5, ('', 'My'): 0.25, ('My', 'friends'): 1.0, ('friends', 'and'): 1.0, ('and', 'I'): 1.0, ('I', 'play'): 0.5, ('play', 'football'): 1.0, ('football', 'every'): 0.5, ('every', 'evening'): 1.0, ('evening', 'eos'): 1.0}\n",
            "['', 'love', 'and', 'play', 'football', 'friends', 'My', 'I', 'every', 'playing', 'eos', 'evening']\n"
          ]
        }
      ]
    },
    {
      "cell_type": "code",
      "source": [
        "for i in range(len(l1)):\n",
        "  for j in range(len(l1)):\n",
        "    if bi.get((l1[i], l1[j])) == None:\n",
        "      mat[i][j] = 0.0\n",
        "    else:\n",
        "      mat[i][j] = (bi.get((l1[i], l1[j]))) / (uni.get(l1[i]))\n",
        "print(mat)"
      ],
      "metadata": {
        "colab": {
          "base_uri": "https://localhost:8080/"
        },
        "id": "0ahGRu9JuuOa",
        "outputId": "492815d8-5757-42cc-c227-8edb8e489086"
      },
      "execution_count": 9,
      "outputs": [
        {
          "output_type": "stream",
          "name": "stdout",
          "text": [
            "[[0.0, 0.0, 0.0, 0.0, 0.0, 0.0, 0.25, 0.0, 0.0, 0.0, 0.5, 0.0], [0.0, 0.0, 0.0, 0.0, 0.0, 0.0, 0.0, 0.0, 0.0, 1.0, 0.0, 0.0], [0.0, 0.0, 0.0, 0.0, 0.0, 0.0, 0.0, 1.0, 0.0, 0.0, 0.0, 0.0], [0.0, 0.0, 0.0, 0.0, 1.0, 0.0, 0.0, 0.0, 0.0, 0.0, 0.0, 0.0], [0.0, 0.0, 0.0, 0.0, 0.0, 0.0, 0.0, 0.0, 0.5, 0.0, 0.5, 0.0], [0.0, 0.0, 1.0, 0.0, 0.0, 0.0, 0.0, 0.0, 0.0, 0.0, 0.0, 0.0], [0.0, 0.0, 0.0, 0.0, 0.0, 1.0, 0.0, 0.0, 0.0, 0.0, 0.0, 0.0], [0.0, 0.5, 0.0, 0.5, 0.0, 0.0, 0.0, 0.0, 0.0, 0.0, 0.0, 0.0], [0.0, 0.0, 0.0, 0.0, 0.0, 0.0, 0.0, 0.0, 0.0, 0.0, 0.0, 1.0], [0.0, 0.0, 0.0, 0.0, 1.0, 0.0, 0.0, 0.0, 0.0, 0.0, 0.0, 0.0], [0.8, 0.0, 0.0, 0.0, 0.0, 0.0, 0.0, 0.2, 0.0, 0.0, 0.0, 0.0], [0.0, 0.0, 0.0, 0.0, 0.0, 0.0, 0.0, 0.0, 0.0, 0.0, 1.0, 0.0]]\n"
          ]
        }
      ]
    },
    {
      "cell_type": "code",
      "source": [
        "df = pd.DataFrame(mat, columns = l1)\n",
        "df.index = l1\n",
        "print(df)\n",
        "sentence = \"I play with football\"\n",
        "l1 = sentence.replace('.', ' eos')\n",
        "l1 = \"eos \" + l1\n",
        "l2 = l1.split(\" \")"
      ],
      "metadata": {
        "colab": {
          "base_uri": "https://localhost:8080/"
        },
        "id": "xFOO1C4DvNVp",
        "outputId": "07293a9c-2908-42d3-df7e-e5c156fc0cb4"
      },
      "execution_count": 10,
      "outputs": [
        {
          "output_type": "stream",
          "name": "stdout",
          "text": [
            "               love  and  play  football  friends    My    I  every  playing  \\\n",
            "          0.0   0.0  0.0   0.0       0.0      0.0  0.25  0.0    0.0      0.0   \n",
            "love      0.0   0.0  0.0   0.0       0.0      0.0  0.00  0.0    0.0      1.0   \n",
            "and       0.0   0.0  0.0   0.0       0.0      0.0  0.00  1.0    0.0      0.0   \n",
            "play      0.0   0.0  0.0   0.0       1.0      0.0  0.00  0.0    0.0      0.0   \n",
            "football  0.0   0.0  0.0   0.0       0.0      0.0  0.00  0.0    0.5      0.0   \n",
            "friends   0.0   0.0  1.0   0.0       0.0      0.0  0.00  0.0    0.0      0.0   \n",
            "My        0.0   0.0  0.0   0.0       0.0      1.0  0.00  0.0    0.0      0.0   \n",
            "I         0.0   0.5  0.0   0.5       0.0      0.0  0.00  0.0    0.0      0.0   \n",
            "every     0.0   0.0  0.0   0.0       0.0      0.0  0.00  0.0    0.0      0.0   \n",
            "playing   0.0   0.0  0.0   0.0       1.0      0.0  0.00  0.0    0.0      0.0   \n",
            "eos       0.8   0.0  0.0   0.0       0.0      0.0  0.00  0.2    0.0      0.0   \n",
            "evening   0.0   0.0  0.0   0.0       0.0      0.0  0.00  0.0    0.0      0.0   \n",
            "\n",
            "          eos  evening  \n",
            "          0.5      0.0  \n",
            "love      0.0      0.0  \n",
            "and       0.0      0.0  \n",
            "play      0.0      0.0  \n",
            "football  0.5      0.0  \n",
            "friends   0.0      0.0  \n",
            "My        0.0      0.0  \n",
            "I         0.0      0.0  \n",
            "every     0.0      1.0  \n",
            "playing   0.0      0.0  \n",
            "eos       0.0      0.0  \n",
            "evening   1.0      0.0  \n"
          ]
        }
      ]
    },
    {
      "cell_type": "code",
      "source": [
        "print(l2)\n",
        "sentbi = [(l2[i], l2[i+1]) for i in range(len(l2) - 1)]\n",
        "print(sentbi)\n",
        "mul_prob = 1\n",
        "for i in sentbi:\n",
        "  if bi.get(i) == None:\n",
        "    mul_prob *= 0\n",
        "  else:\n",
        "    mul_prob *= (bi.get(i) / uni.get(i[0]))\n",
        "print(\"probability: \", mul_prob)"
      ],
      "metadata": {
        "colab": {
          "base_uri": "https://localhost:8080/"
        },
        "id": "SZ6n2aluvlSJ",
        "outputId": "b921a7c2-cdc2-4c37-f718-41a42cc9e7d1"
      },
      "execution_count": 11,
      "outputs": [
        {
          "output_type": "stream",
          "name": "stdout",
          "text": [
            "['eos', 'I', 'play', 'with', 'football']\n",
            "[('eos', 'I'), ('I', 'play'), ('play', 'with'), ('with', 'football')]\n",
            "probability:  0.0\n"
          ]
        }
      ]
    },
    {
      "cell_type": "code",
      "source": [],
      "metadata": {
        "id": "gOmnemI5wF9c"
      },
      "execution_count": null,
      "outputs": []
    }
  ]
}