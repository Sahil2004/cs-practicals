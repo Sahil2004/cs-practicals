{
  "nbformat": 4,
  "nbformat_minor": 0,
  "metadata": {
    "colab": {
      "provenance": [],
      "authorship_tag": "ABX9TyOEdDtqz5cSHlfq4VOdX+ka",
      "include_colab_link": true
    },
    "kernelspec": {
      "name": "python3",
      "display_name": "Python 3"
    },
    "language_info": {
      "name": "python"
    }
  },
  "cells": [
    {
      "cell_type": "markdown",
      "metadata": {
        "id": "view-in-github",
        "colab_type": "text"
      },
      "source": [
        "<a href=\"https://colab.research.google.com/github/Sahil2004/cs-practicals/blob/main/7th%20sem/%5B02%5D%20Natural%20Language%20Processing/Practical%207.ipynb\" target=\"_parent\"><img src=\"https://colab.research.google.com/assets/colab-badge.svg\" alt=\"Open In Colab\"/></a>"
      ]
    },
    {
      "cell_type": "code",
      "execution_count": 1,
      "metadata": {
        "id": "3QK1xZWjLI_7"
      },
      "outputs": [],
      "source": [
        "import nltk\n",
        "from nltk import pos_tag, word_tokenize, RegexpParser\n",
        "from nltk.chunk import conlltags2tree\n",
        "from nltk.corpus import treebank_chunk"
      ]
    },
    {
      "cell_type": "code",
      "source": [
        "nltk.download('punkt')\n",
        "nltk.download('punkt_tab')\n",
        "nltk.download('averaged_perceptron_tagger_eng')\n",
        "nltk.download('conll2000')\n",
        "nltk.download('treebank')"
      ],
      "metadata": {
        "colab": {
          "base_uri": "https://localhost:8080/"
        },
        "id": "b70uvBzqLdUI",
        "outputId": "b40613fa-67eb-4d16-f955-3cf6a17500ce"
      },
      "execution_count": 2,
      "outputs": [
        {
          "output_type": "stream",
          "name": "stderr",
          "text": [
            "[nltk_data] Downloading package punkt to /root/nltk_data...\n",
            "[nltk_data]   Unzipping tokenizers/punkt.zip.\n",
            "[nltk_data] Downloading package punkt_tab to /root/nltk_data...\n",
            "[nltk_data]   Unzipping tokenizers/punkt_tab.zip.\n",
            "[nltk_data] Downloading package averaged_perceptron_tagger_eng to\n",
            "[nltk_data]     /root/nltk_data...\n",
            "[nltk_data]   Unzipping taggers/averaged_perceptron_tagger_eng.zip.\n",
            "[nltk_data] Downloading package conll2000 to /root/nltk_data...\n",
            "[nltk_data]   Unzipping corpora/conll2000.zip.\n",
            "[nltk_data] Downloading package treebank to /root/nltk_data...\n",
            "[nltk_data]   Unzipping corpora/treebank.zip.\n"
          ]
        },
        {
          "output_type": "execute_result",
          "data": {
            "text/plain": [
              "True"
            ]
          },
          "metadata": {},
          "execution_count": 2
        }
      ]
    },
    {
      "cell_type": "code",
      "source": [
        "text = \"\"\"\n",
        "Natural Language Processing (NLP) enables computers to understand and interpret human laguage.\n",
        "The quick brown fox jumps over the lazy dog near the river bank.\n",
        "He works at Microsoft and lives n Seattle.\n",
        "\"\"\""
      ],
      "metadata": {
        "id": "T4OkOAwyLrYj"
      },
      "execution_count": 3,
      "outputs": []
    },
    {
      "cell_type": "code",
      "source": [
        "print(text)"
      ],
      "metadata": {
        "colab": {
          "base_uri": "https://localhost:8080/"
        },
        "id": "IuwlQ3NQMC37",
        "outputId": "aa16054f-0724-4dbe-b34f-2ce9bca1a144"
      },
      "execution_count": 4,
      "outputs": [
        {
          "output_type": "stream",
          "name": "stdout",
          "text": [
            "\n",
            "Natural Language Processing (NLP) enables computers to understand and interpret human laguage.\n",
            "The quick brown fox jumps over the lazy dog near the river bank.\n",
            "He works at Microsoft and lives n Seattle.\n",
            "\n"
          ]
        }
      ]
    },
    {
      "cell_type": "code",
      "source": [
        "sentences = nltk.sent_tokenize(text)\n",
        "print(\"\\nTokenized sentences:\")\n",
        "for s in sentences:\n",
        "  print(s)"
      ],
      "metadata": {
        "colab": {
          "base_uri": "https://localhost:8080/"
        },
        "id": "Y6hiJjScMESK",
        "outputId": "3841a727-729e-4344-80d7-89f698a59389"
      },
      "execution_count": 5,
      "outputs": [
        {
          "output_type": "stream",
          "name": "stdout",
          "text": [
            "\n",
            "Tokenized sentences:\n",
            "\n",
            "Natural Language Processing (NLP) enables computers to understand and interpret human laguage.\n",
            "The quick brown fox jumps over the lazy dog near the river bank.\n",
            "He works at Microsoft and lives n Seattle.\n"
          ]
        }
      ]
    },
    {
      "cell_type": "code",
      "source": [
        "for sent in sentences:\n",
        "  print(\"\\nProcessing Sentence:\")\n",
        "  print(sent)\n",
        "\n",
        "  words = word_tokenize(sent)\n",
        "  print(\"Tokens:\", words)\n",
        "\n",
        "  pos_tags = pos_tag(words)\n",
        "  print(\"POS Tags:\", pos_tags)\n",
        "\n",
        "  grammer = r\"\"\"\n",
        "  NP: {<DT>?<JJ>*<NN.*>}\n",
        "  VP: {<VB.*><NP|PP|CLAUSE>+$}\n",
        "  PP: {<IN><NP>}\n",
        "  CLAUSE: {<NP><VP>}\n",
        "  \"\"\"\n",
        "\n",
        "  chunk_parser = RegexpParser(grammer)\n",
        "  tree = chunk_parser.parse(pos_tags)\n",
        "\n",
        "  print(\"\\nChunk Structure:\")\n",
        "  print(tree)"
      ],
      "metadata": {
        "colab": {
          "base_uri": "https://localhost:8080/"
        },
        "id": "v7RTMgJeMOzp",
        "outputId": "e2c62b0f-a161-4658-9324-0df4e5fb5ba1"
      },
      "execution_count": 6,
      "outputs": [
        {
          "output_type": "stream",
          "name": "stdout",
          "text": [
            "\n",
            "Processing Sentence:\n",
            "\n",
            "Natural Language Processing (NLP) enables computers to understand and interpret human laguage.\n",
            "Tokens: ['Natural', 'Language', 'Processing', '(', 'NLP', ')', 'enables', 'computers', 'to', 'understand', 'and', 'interpret', 'human', 'laguage', '.']\n",
            "POS Tags: [('Natural', 'JJ'), ('Language', 'NNP'), ('Processing', 'NNP'), ('(', '('), ('NLP', 'NNP'), (')', ')'), ('enables', 'VBZ'), ('computers', 'NNS'), ('to', 'TO'), ('understand', 'VB'), ('and', 'CC'), ('interpret', 'VB'), ('human', 'JJ'), ('laguage', 'NN'), ('.', '.')]\n",
            "\n",
            "Chunk Structure:\n",
            "(S\n",
            "  (NP Natural/JJ Language/NNP)\n",
            "  (NP Processing/NNP)\n",
            "  (/(\n",
            "  (NP NLP/NNP)\n",
            "  )/)\n",
            "  enables/VBZ\n",
            "  (NP computers/NNS)\n",
            "  to/TO\n",
            "  understand/VB\n",
            "  and/CC\n",
            "  interpret/VB\n",
            "  (NP human/JJ laguage/NN)\n",
            "  ./.)\n",
            "\n",
            "Processing Sentence:\n",
            "The quick brown fox jumps over the lazy dog near the river bank.\n",
            "Tokens: ['The', 'quick', 'brown', 'fox', 'jumps', 'over', 'the', 'lazy', 'dog', 'near', 'the', 'river', 'bank', '.']\n",
            "POS Tags: [('The', 'DT'), ('quick', 'JJ'), ('brown', 'NN'), ('fox', 'NN'), ('jumps', 'VBZ'), ('over', 'IN'), ('the', 'DT'), ('lazy', 'JJ'), ('dog', 'NN'), ('near', 'IN'), ('the', 'DT'), ('river', 'NN'), ('bank', 'NN'), ('.', '.')]\n",
            "\n",
            "Chunk Structure:\n",
            "(S\n",
            "  (NP The/DT quick/JJ brown/NN)\n",
            "  (NP fox/NN)\n",
            "  jumps/VBZ\n",
            "  (PP over/IN (NP the/DT lazy/JJ dog/NN))\n",
            "  (PP near/IN (NP the/DT river/NN))\n",
            "  (NP bank/NN)\n",
            "  ./.)\n",
            "\n",
            "Processing Sentence:\n",
            "He works at Microsoft and lives n Seattle.\n",
            "Tokens: ['He', 'works', 'at', 'Microsoft', 'and', 'lives', 'n', 'Seattle', '.']\n",
            "POS Tags: [('He', 'PRP'), ('works', 'VBZ'), ('at', 'IN'), ('Microsoft', 'NNP'), ('and', 'CC'), ('lives', 'VBZ'), ('n', 'JJ'), ('Seattle', 'NNP'), ('.', '.')]\n",
            "\n",
            "Chunk Structure:\n",
            "(S\n",
            "  He/PRP\n",
            "  works/VBZ\n",
            "  (PP at/IN (NP Microsoft/NNP))\n",
            "  and/CC\n",
            "  lives/VBZ\n",
            "  (NP n/JJ Seattle/NNP)\n",
            "  ./.)\n"
          ]
        }
      ]
    },
    {
      "cell_type": "code",
      "source": [
        "test_sents = treebank_chunk.tagged_sents()[:5]\n",
        "cp = nltk.RegexpParser(grammer)\n",
        "print(\"\\nEvaluating on Treebank Sample Sentences...\")\n",
        "for sent in test_sents:\n",
        "  print(cp.parse(sent))"
      ],
      "metadata": {
        "colab": {
          "base_uri": "https://localhost:8080/"
        },
        "id": "ueCKlb6EM9Dw",
        "outputId": "18bace53-2ce5-4d6a-eb75-3648113177ef"
      },
      "execution_count": 7,
      "outputs": [
        {
          "output_type": "stream",
          "name": "stdout",
          "text": [
            "\n",
            "Evaluating on Treebank Sample Sentences...\n",
            "(S\n",
            "  (NP Pierre/NNP)\n",
            "  (NP Vinken/NNP)\n",
            "  ,/,\n",
            "  61/CD\n",
            "  (NP years/NNS)\n",
            "  old/JJ\n",
            "  ,/,\n",
            "  will/MD\n",
            "  join/VB\n",
            "  (NP the/DT board/NN)\n",
            "  (PP as/IN (NP a/DT nonexecutive/JJ director/NN))\n",
            "  (NP Nov./NNP)\n",
            "  29/CD\n",
            "  ./.)\n",
            "(S\n",
            "  (NP Mr./NNP)\n",
            "  (NP Vinken/NNP)\n",
            "  is/VBZ\n",
            "  (NP chairman/NN)\n",
            "  (PP of/IN (NP Elsevier/NNP))\n",
            "  (NP N.V./NNP)\n",
            "  ,/,\n",
            "  (NP the/DT Dutch/NNP)\n",
            "  publishing/VBG\n",
            "  (NP group/NN)\n",
            "  ./.)\n",
            "(S\n",
            "  (NP Rudolph/NNP)\n",
            "  (NP Agnew/NNP)\n",
            "  ,/,\n",
            "  55/CD\n",
            "  (NP years/NNS)\n",
            "  old/JJ\n",
            "  and/CC\n",
            "  (NP former/JJ chairman/NN)\n",
            "  (PP of/IN (NP Consolidated/NNP))\n",
            "  (NP Gold/NNP)\n",
            "  (NP Fields/NNP)\n",
            "  (NP PLC/NNP)\n",
            "  ,/,\n",
            "  was/VBD\n",
            "  named/VBN\n",
            "  (NP a/DT nonexecutive/JJ director/NN)\n",
            "  (PP of/IN (NP this/DT British/JJ industrial/JJ conglomerate/NN))\n",
            "  ./.)\n",
            "(S\n",
            "  (NP A/DT form/NN)\n",
            "  (PP of/IN (NP asbestos/NN))\n",
            "  once/RB\n",
            "  used/VBN\n",
            "  to/TO\n",
            "  make/VB\n",
            "  (NP Kent/NNP)\n",
            "  (NP cigarette/NN)\n",
            "  (NP filters/NNS)\n",
            "  has/VBZ\n",
            "  caused/VBN\n",
            "  (NP a/DT high/JJ percentage/NN)\n",
            "  (PP of/IN (NP cancer/NN))\n",
            "  (NP deaths/NNS)\n",
            "  (PP among/IN (NP a/DT group/NN))\n",
            "  (PP of/IN (NP workers/NNS))\n",
            "  exposed/VBN\n",
            "  to/TO\n",
            "  it/PRP\n",
            "  more/RBR\n",
            "  than/IN\n",
            "  30/CD\n",
            "  (NP years/NNS)\n",
            "  ago/IN\n",
            "  ,/,\n",
            "  (NP researchers/NNS)\n",
            "  reported/VBD\n",
            "  ./.)\n",
            "(S\n",
            "  (NP The/DT asbestos/NN)\n",
            "  (NP fiber/NN)\n",
            "  ,/,\n",
            "  (NP crocidolite/NN)\n",
            "  ,/,\n",
            "  is/VBZ\n",
            "  unusually/RB\n",
            "  resilient/JJ\n",
            "  once/IN\n",
            "  it/PRP\n",
            "  enters/VBZ\n",
            "  (NP the/DT lungs/NNS)\n",
            "  ,/,\n",
            "  with/IN\n",
            "  even/RB\n",
            "  (NP brief/JJ exposures/NNS)\n",
            "  to/TO\n",
            "  it/PRP\n",
            "  causing/VBG\n",
            "  (NP symptoms/NNS)\n",
            "  that/WDT\n",
            "  show/VBP\n",
            "  (PP up/IN (NP decades/NNS))\n",
            "  later/JJ\n",
            "  ,/,\n",
            "  (NP researchers/NNS)\n",
            "  said/VBD\n",
            "  ./.)\n"
          ]
        }
      ]
    },
    {
      "cell_type": "code",
      "source": [],
      "metadata": {
        "id": "-AfFRgLZNQAY"
      },
      "execution_count": null,
      "outputs": []
    }
  ]
}