{
  "nbformat": 4,
  "nbformat_minor": 0,
  "metadata": {
    "colab": {
      "provenance": [],
      "authorship_tag": "ABX9TyO60PL1Qrp9xy7f1hbWrRFD",
      "include_colab_link": true
    },
    "kernelspec": {
      "name": "python3",
      "display_name": "Python 3"
    },
    "language_info": {
      "name": "python"
    }
  },
  "cells": [
    {
      "cell_type": "markdown",
      "metadata": {
        "id": "view-in-github",
        "colab_type": "text"
      },
      "source": [
        "<a href=\"https://colab.research.google.com/github/Sahil2004/cs-practicals/blob/main/7th%20sem/%5B02%5D%20Natural%20Language%20Processing/Practical%208.ipynb\" target=\"_parent\"><img src=\"https://colab.research.google.com/assets/colab-badge.svg\" alt=\"Open In Colab\"/></a>"
      ]
    },
    {
      "cell_type": "code",
      "execution_count": 2,
      "metadata": {
        "id": "3dBnXfbaOjFm"
      },
      "outputs": [],
      "source": [
        "from sklearn.feature_extraction.text import CountVectorizer, TfidfVectorizer\n",
        "import pandas as pd"
      ]
    },
    {
      "cell_type": "code",
      "source": [
        "corpus = [\n",
        "    \"Natural language processing makes it possble for computers to read text.\",\n",
        "    \"Machine learning algorithms help n traning models for NLP tasks.\",\n",
        "    \"Text vectorization converts words into numerical features.\",\n",
        "    \"TF-IDF is more informative than the Bag of Words model.\",\n",
        "    \"The quick brown fox jumps over the lazy dog.\"\n",
        "]"
      ],
      "metadata": {
        "id": "OZTGh4uBOvDq"
      },
      "execution_count": 3,
      "outputs": []
    },
    {
      "cell_type": "code",
      "source": [
        "print(\"Original Corpus\")\n",
        "for i, doc in enumerate(corpus, 1):\n",
        "  print(f\"{i}. {doc}\")"
      ],
      "metadata": {
        "colab": {
          "base_uri": "https://localhost:8080/",
          "height": 0
        },
        "id": "vqmqKsiRPdsu",
        "outputId": "b95e43a2-8aad-46ba-a5e8-8b1f140d2248"
      },
      "execution_count": 4,
      "outputs": [
        {
          "output_type": "stream",
          "name": "stdout",
          "text": [
            "Original Corpus\n",
            "1. Natural language processing makes it possble for computers to read text.\n",
            "2. Machine learning algorithms help n traning models for NLP tasks.\n",
            "3. Text vectorization converts words into numerical features.\n",
            "4. TF-IDF is more informative than the Bag of Words model.\n",
            "5. The quick brown fox jumps over the lazy dog.\n"
          ]
        }
      ]
    },
    {
      "cell_type": "markdown",
      "source": [
        "BAG OF WORDS REPRESENTATION"
      ],
      "metadata": {
        "id": "Y_6k9bzRPqHe"
      }
    },
    {
      "cell_type": "code",
      "source": [
        "bow_vectorizer = CountVectorizer(stop_words='english')\n",
        "bow_matrix = bow_vectorizer.fit_transform(corpus)\n",
        "bow_df = pd.DataFrame(bow_matrix.toarray(), columns=bow_vectorizer.get_feature_names_out())\n",
        "print(\"\\nVocabulary (Features):\", bow_vectorizer.get_feature_names_out())\n",
        "print(\"\\nBag of Words Matrix:\")\n",
        "print(bow_df)"
      ],
      "metadata": {
        "colab": {
          "base_uri": "https://localhost:8080/",
          "height": 0
        },
        "id": "ySuKP3yVPnBD",
        "outputId": "d48ba618-1a61-437e-e244-adbd0cfb56b4"
      },
      "execution_count": 7,
      "outputs": [
        {
          "output_type": "stream",
          "name": "stdout",
          "text": [
            "\n",
            "Vocabulary (Features): ['algorithms' 'bag' 'brown' 'computers' 'converts' 'dog' 'features' 'fox'\n",
            " 'help' 'idf' 'informative' 'jumps' 'language' 'lazy' 'learning' 'machine'\n",
            " 'makes' 'model' 'models' 'natural' 'nlp' 'numerical' 'possble'\n",
            " 'processing' 'quick' 'read' 'tasks' 'text' 'tf' 'traning' 'vectorization'\n",
            " 'words']\n",
            "\n",
            "Bag of Words Matrix:\n",
            "   algorithms  bag  brown  computers  converts  dog  features  fox  help  idf  \\\n",
            "0           0    0      0          1         0    0         0    0     0    0   \n",
            "1           1    0      0          0         0    0         0    0     1    0   \n",
            "2           0    0      0          0         1    0         1    0     0    0   \n",
            "3           0    1      0          0         0    0         0    0     0    1   \n",
            "4           0    0      1          0         0    1         0    1     0    0   \n",
            "\n",
            "   ...  possble  processing  quick  read  tasks  text  tf  traning  \\\n",
            "0  ...        1           1      0     1      0     1   0        0   \n",
            "1  ...        0           0      0     0      1     0   0        1   \n",
            "2  ...        0           0      0     0      0     1   0        0   \n",
            "3  ...        0           0      0     0      0     0   1        0   \n",
            "4  ...        0           0      1     0      0     0   0        0   \n",
            "\n",
            "   vectorization  words  \n",
            "0              0      0  \n",
            "1              0      0  \n",
            "2              1      1  \n",
            "3              0      1  \n",
            "4              0      0  \n",
            "\n",
            "[5 rows x 32 columns]\n"
          ]
        }
      ]
    },
    {
      "cell_type": "markdown",
      "source": [
        "TF-IDF REPRESENTATION"
      ],
      "metadata": {
        "id": "v5zyWn69QlSJ"
      }
    },
    {
      "cell_type": "code",
      "source": [
        "tfidf_vectorizer = TfidfVectorizer(stop_words='english')\n",
        "tfidf_matrix = tfidf_vectorizer.fit_transform(corpus)\n",
        "tfidf_df = pd.DataFrame(tfidf_matrix.toarray(), columns=tfidf_vectorizer.get_feature_names_out())\n",
        "\n",
        "print(\"\\nVocabulary (Features):\", tfidf_vectorizer.get_feature_names_out())\n",
        "print(\"\\nTF-IDF Weighted Matrix:\")\n",
        "print(tfidf_df.round(3))"
      ],
      "metadata": {
        "colab": {
          "base_uri": "https://localhost:8080/",
          "height": 0
        },
        "id": "w2pureWvQQCe",
        "outputId": "abad1939-718f-4b3a-8abb-4c196277c88d"
      },
      "execution_count": 8,
      "outputs": [
        {
          "output_type": "stream",
          "name": "stdout",
          "text": [
            "\n",
            "Vocabulary (Features): ['algorithms' 'bag' 'brown' 'computers' 'converts' 'dog' 'features' 'fox'\n",
            " 'help' 'idf' 'informative' 'jumps' 'language' 'lazy' 'learning' 'machine'\n",
            " 'makes' 'model' 'models' 'natural' 'nlp' 'numerical' 'possble'\n",
            " 'processing' 'quick' 'read' 'tasks' 'text' 'tf' 'traning' 'vectorization'\n",
            " 'words']\n",
            "\n",
            "TF-IDF Weighted Matrix:\n",
            "   algorithms    bag  brown  computers  converts    dog  features    fox  \\\n",
            "0       0.000  0.000  0.000      0.362     0.000  0.000     0.000  0.000   \n",
            "1       0.354  0.000  0.000      0.000     0.000  0.000     0.000  0.000   \n",
            "2       0.000  0.000  0.000      0.000     0.434  0.000     0.434  0.000   \n",
            "3       0.000  0.421  0.000      0.000     0.000  0.000     0.000  0.000   \n",
            "4       0.000  0.000  0.408      0.000     0.000  0.408     0.000  0.408   \n",
            "\n",
            "    help    idf  ...  possble  processing  quick   read  tasks   text     tf  \\\n",
            "0  0.000  0.000  ...    0.362       0.362  0.000  0.362  0.000  0.292  0.000   \n",
            "1  0.354  0.000  ...    0.000       0.000  0.000  0.000  0.354  0.000  0.000   \n",
            "2  0.000  0.000  ...    0.000       0.000  0.000  0.000  0.000  0.350  0.000   \n",
            "3  0.000  0.421  ...    0.000       0.000  0.000  0.000  0.000  0.000  0.421   \n",
            "4  0.000  0.000  ...    0.000       0.000  0.408  0.000  0.000  0.000  0.000   \n",
            "\n",
            "   traning  vectorization  words  \n",
            "0    0.000          0.000  0.000  \n",
            "1    0.354          0.000  0.000  \n",
            "2    0.000          0.434  0.350  \n",
            "3    0.000          0.000  0.339  \n",
            "4    0.000          0.000  0.000  \n",
            "\n",
            "[5 rows x 32 columns]\n"
          ]
        }
      ]
    },
    {
      "cell_type": "code",
      "source": [
        "print(\"\\nTop TF-IDF words per document:\")\n",
        "for i in range(len(corpus)):\n",
        "  df_sorted = tfidf_df.iloc[i].sort_values(ascending=False)\n",
        "  print(f\"\\nDocument {i+1} top terms:\")\n",
        "  print(df_sorted.head(5))"
      ],
      "metadata": {
        "colab": {
          "base_uri": "https://localhost:8080/",
          "height": 0
        },
        "id": "-wGI0THlShig",
        "outputId": "13ae4f69-8cd3-4cf5-eff9-c67a45ac66e3"
      },
      "execution_count": 9,
      "outputs": [
        {
          "output_type": "stream",
          "name": "stdout",
          "text": [
            "\n",
            "Top TF-IDF words per document:\n",
            "\n",
            "Document 1 top terms:\n",
            "computers     0.361529\n",
            "language      0.361529\n",
            "natural       0.361529\n",
            "read          0.361529\n",
            "processing    0.361529\n",
            "Name: 0, dtype: float64\n",
            "\n",
            "Document 2 top terms:\n",
            "algorithms    0.353553\n",
            "learning      0.353553\n",
            "machine       0.353553\n",
            "help          0.353553\n",
            "tasks         0.353553\n",
            "Name: 1, dtype: float64\n",
            "\n",
            "Document 3 top terms:\n",
            "features         0.434297\n",
            "converts         0.434297\n",
            "vectorization    0.434297\n",
            "numerical        0.434297\n",
            "words            0.350388\n",
            "Name: 2, dtype: float64\n",
            "\n",
            "Document 4 top terms:\n",
            "bag            0.420669\n",
            "idf            0.420669\n",
            "informative    0.420669\n",
            "model          0.420669\n",
            "tf             0.420669\n",
            "Name: 3, dtype: float64\n",
            "\n",
            "Document 5 top terms:\n",
            "brown    0.408248\n",
            "dog      0.408248\n",
            "fox      0.408248\n",
            "jumps    0.408248\n",
            "lazy     0.408248\n",
            "Name: 4, dtype: float64\n"
          ]
        }
      ]
    },
    {
      "cell_type": "markdown",
      "source": [
        "COMPARISON OF BoW vs TF-IDF"
      ],
      "metadata": {
        "id": "eBhH1gCBS3K4"
      }
    },
    {
      "cell_type": "code",
      "source": [
        "print(\"\"\"\n",
        "- BoW counts how often each word appears in a document.\n",
        "- TF-IDF considers how important a word is acorss all documents.\n",
        "- Common words get lower weights in TF-IDF.\n",
        "\"\"\")"
      ],
      "metadata": {
        "colab": {
          "base_uri": "https://localhost:8080/",
          "height": 0
        },
        "id": "sAKi3IEGS1pY",
        "outputId": "b412a714-b6f1-484b-b7d1-ab0d221bf33a"
      },
      "execution_count": 10,
      "outputs": [
        {
          "output_type": "stream",
          "name": "stdout",
          "text": [
            "\n",
            "- BoW counts how often each word appears in a document.\n",
            "- TF-IDF considers how important a word is acorss all documents.\n",
            "- Common words get lower weights in TF-IDF.\n",
            "\n"
          ]
        }
      ]
    },
    {
      "cell_type": "code",
      "source": [],
      "metadata": {
        "id": "BlxGj986TIF9"
      },
      "execution_count": null,
      "outputs": []
    }
  ]
}