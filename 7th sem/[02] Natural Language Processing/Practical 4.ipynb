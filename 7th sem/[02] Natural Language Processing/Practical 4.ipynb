{
  "nbformat": 4,
  "nbformat_minor": 0,
  "metadata": {
    "colab": {
      "provenance": [],
      "authorship_tag": "ABX9TyM4/l96EHJ05bztLpCV2UAW",
      "include_colab_link": true
    },
    "kernelspec": {
      "name": "python3",
      "display_name": "Python 3"
    },
    "language_info": {
      "name": "python"
    }
  },
  "cells": [
    {
      "cell_type": "markdown",
      "metadata": {
        "id": "view-in-github",
        "colab_type": "text"
      },
      "source": [
        "<a href=\"https://colab.research.google.com/github/Sahil2004/cs-practicals/blob/main/7th%20sem/%5B02%5D%20Natural%20Language%20Processing/Practical%204.ipynb\" target=\"_parent\"><img src=\"https://colab.research.google.com/assets/colab-badge.svg\" alt=\"Open In Colab\"/></a>"
      ]
    },
    {
      "cell_type": "code",
      "execution_count": 1,
      "metadata": {
        "id": "T_OgIQPhq0s7"
      },
      "outputs": [],
      "source": [
        "import spacy\n",
        "nlp = spacy.load(\"en_core_web_sm\")"
      ]
    },
    {
      "cell_type": "code",
      "source": [
        "interogative_sentence = \"Why did you choose to learn JavaScript?\""
      ],
      "metadata": {
        "id": "HtkJFK2Mq8UH"
      },
      "execution_count": 2,
      "outputs": []
    },
    {
      "cell_type": "code",
      "source": [
        "declarative_sentence = \"JavaScript powers the web.\""
      ],
      "metadata": {
        "id": "qpUnOJJyrAA-"
      },
      "execution_count": 3,
      "outputs": []
    },
    {
      "cell_type": "code",
      "source": [
        "complex_sentence = \"I wanted to finish my project early, but my laptop stopped working, so I had to use the lab computer.\""
      ],
      "metadata": {
        "id": "086IMKGIrRzS"
      },
      "execution_count": 4,
      "outputs": []
    },
    {
      "cell_type": "code",
      "source": [
        "interogative_doc = nlp(interogative_sentence)"
      ],
      "metadata": {
        "id": "WNC8ZgV_rgAI"
      },
      "execution_count": 6,
      "outputs": []
    },
    {
      "cell_type": "code",
      "source": [
        "declarative_doc = nlp(declarative_sentence)"
      ],
      "metadata": {
        "id": "vuRwmEGXrmX7"
      },
      "execution_count": 7,
      "outputs": []
    },
    {
      "cell_type": "code",
      "source": [
        "complex_doc = nlp(complex_sentence)"
      ],
      "metadata": {
        "id": "Nsq6TmQSrre-"
      },
      "execution_count": 8,
      "outputs": []
    },
    {
      "cell_type": "code",
      "source": [
        "for token in interogative_doc:\n",
        "  print(token.text, token.pos_)"
      ],
      "metadata": {
        "colab": {
          "base_uri": "https://localhost:8080/",
          "height": 0
        },
        "id": "Ax80E2xWrve-",
        "outputId": "dfdcf126-98bf-4510-b973-f6bcf99848e5"
      },
      "execution_count": 9,
      "outputs": [
        {
          "output_type": "stream",
          "name": "stdout",
          "text": [
            "Why SCONJ\n",
            "did AUX\n",
            "you PRON\n",
            "choose VERB\n",
            "to PART\n",
            "learn VERB\n",
            "JavaScript PROPN\n",
            "? PUNCT\n"
          ]
        }
      ]
    },
    {
      "cell_type": "code",
      "source": [
        "print(\"\\n\")\n",
        "for token in declarative_doc:\n",
        "  print(token.text, token.pos_)"
      ],
      "metadata": {
        "colab": {
          "base_uri": "https://localhost:8080/",
          "height": 0
        },
        "id": "cQdcPx5cr2-b",
        "outputId": "f7dd4f34-b5b4-4110-8191-2813df54d615"
      },
      "execution_count": 10,
      "outputs": [
        {
          "output_type": "stream",
          "name": "stdout",
          "text": [
            "\n",
            "\n",
            "JavaScript PROPN\n",
            "powers VERB\n",
            "the DET\n",
            "web NOUN\n",
            ". PUNCT\n"
          ]
        }
      ]
    },
    {
      "cell_type": "code",
      "source": [
        "print(\"\\n\")\n",
        "for token in complex_doc:\n",
        "  print(token.text, token.pos_)"
      ],
      "metadata": {
        "colab": {
          "base_uri": "https://localhost:8080/",
          "height": 0
        },
        "id": "q_xc7_yLr7La",
        "outputId": "5bcc9699-99a5-43bc-b129-8e96d14d3354"
      },
      "execution_count": 11,
      "outputs": [
        {
          "output_type": "stream",
          "name": "stdout",
          "text": [
            "\n",
            "\n",
            "I PRON\n",
            "wanted VERB\n",
            "to PART\n",
            "finish VERB\n",
            "my PRON\n",
            "project NOUN\n",
            "early ADV\n",
            ", PUNCT\n",
            "but CCONJ\n",
            "my PRON\n",
            "laptop NOUN\n",
            "stopped VERB\n",
            "working VERB\n",
            ", PUNCT\n",
            "so ADV\n",
            "I PRON\n",
            "had VERB\n",
            "to PART\n",
            "use VERB\n",
            "the DET\n",
            "lab NOUN\n",
            "computer NOUN\n",
            ". PUNCT\n"
          ]
        }
      ]
    }
  ]
}